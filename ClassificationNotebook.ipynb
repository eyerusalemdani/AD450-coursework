{
 "cells": [
  {
   "cell_type": "code",
   "execution_count": 1,
   "id": "a64a04d3",
   "metadata": {},
   "outputs": [],
   "source": [
    "# Import libraies\n",
    "\n",
    "import pandas as pd\n",
    "\n",
    "from sklearn import datasets\n",
    "\n",
    "import json\n",
    "\n",
    "import numpy as np\n",
    "\n",
    "import matplotlib.pyplot as plt\n",
    "\n",
    "import seaborn as sns\n",
    "\n",
    "from sklearn.neighbors import KNeighborsClassifier\n",
    "\n",
    "from sklearn.model_selection import train_test_split"
   ]
  },
  {
   "cell_type": "code",
   "execution_count": 2,
   "id": "c3da2c3f",
   "metadata": {},
   "outputs": [
    {
     "name": "stdout",
     "output_type": "stream",
     "text": [
      "        party  infants  water  budget  physician  salvador  religious  \\\n",
      "0  republican        0      1       0          1         1          1   \n",
      "1  republican        0      1       0          1         1          1   \n",
      "2    democrat        0      1       1          0         1          1   \n",
      "3    democrat        0      1       1          0         1          1   \n",
      "4    democrat        1      1       1          0         1          1   \n",
      "\n",
      "   satellite  aid  missile  immigration  synfuels  education  superfund  \\\n",
      "0          0    0        0            1         0          1          1   \n",
      "1          0    0        0            0         0          1          1   \n",
      "2          0    0        0            0         1          0          1   \n",
      "3          0    0        0            0         1          0          1   \n",
      "4          0    0        0            0         1          0          1   \n",
      "\n",
      "   crime  duty_free_exports  eaa_rsa  \n",
      "0      1                  0        1  \n",
      "1      1                  0        1  \n",
      "2      1                  0        0  \n",
      "3      0                  0        1  \n",
      "4      1                  1        1  \n"
     ]
    }
   ],
   "source": [
    "#Import Test Dataset\n",
    "\n",
    "X_new = pd.DataFrame.from_dict({\"0\":{\"0\":0.6964691856},\"1\":{\"0\":0.286139335},\"2\":{\"0\":0.2268514536},\"3\":{\"0\":0.5513147691},\"4\":{\"0\":0.7194689698},\"5\":{\"0\":0.4231064601},\"6\":{\"0\":0.9807641984},\"7\":{\"0\":0.6848297386},\"8\":{\"0\":0.4809319015},\"9\":{\"0\":0.3921175182},\"10\":{\"0\":0.3431780162},\"11\":{\"0\":0.7290497074},\"12\":{\"0\":0.4385722447},\"13\":{\"0\":0.0596778966},\"14\":{\"0\":0.3980442553},\"15\":{\"0\":0.7379954057}})\n",
    "\n",
    "# Import JSON Data\n",
    "\n",
    "dataset = pd.read_json('votes.json')\n",
    "\n",
    "# Numerical EDA\n",
    "\n",
    "print(dataset.head())\n",
    "\n"
   ]
  },
  {
   "cell_type": "code",
   "execution_count": 3,
   "id": "53490455",
   "metadata": {},
   "outputs": [
    {
     "name": "stdout",
     "output_type": "stream",
     "text": [
      "<class 'pandas.core.frame.DataFrame'>\n",
      "Int64Index: 435 entries, 0 to 434\n",
      "Data columns (total 17 columns):\n",
      " #   Column             Non-Null Count  Dtype \n",
      "---  ------             --------------  ----- \n",
      " 0   party              435 non-null    object\n",
      " 1   infants            435 non-null    int64 \n",
      " 2   water              435 non-null    int64 \n",
      " 3   budget             435 non-null    int64 \n",
      " 4   physician          435 non-null    int64 \n",
      " 5   salvador           435 non-null    int64 \n",
      " 6   religious          435 non-null    int64 \n",
      " 7   satellite          435 non-null    int64 \n",
      " 8   aid                435 non-null    int64 \n",
      " 9   missile            435 non-null    int64 \n",
      " 10  immigration        435 non-null    int64 \n",
      " 11  synfuels           435 non-null    int64 \n",
      " 12  education          435 non-null    int64 \n",
      " 13  superfund          435 non-null    int64 \n",
      " 14  crime              435 non-null    int64 \n",
      " 15  duty_free_exports  435 non-null    int64 \n",
      " 16  eaa_rsa            435 non-null    int64 \n",
      "dtypes: int64(16), object(1)\n",
      "memory usage: 61.2+ KB\n",
      "None\n"
     ]
    }
   ],
   "source": [
    "print(dataset.info())"
   ]
  },
  {
   "cell_type": "code",
   "execution_count": 4,
   "id": "0c338b48",
   "metadata": {},
   "outputs": [
    {
     "name": "stdout",
     "output_type": "stream",
     "text": [
      "          infants       water      budget   physician    salvador   religious  \\\n",
      "count  435.000000  435.000000  435.000000  435.000000  435.000000  435.000000   \n",
      "mean     0.429885    0.558621    0.606897    0.406897    0.521839    0.650575   \n",
      "std      0.495630    0.497123    0.489002    0.491821    0.500098    0.477337   \n",
      "min      0.000000    0.000000    0.000000    0.000000    0.000000    0.000000   \n",
      "25%      0.000000    0.000000    0.000000    0.000000    0.000000    0.000000   \n",
      "50%      0.000000    1.000000    1.000000    0.000000    1.000000    1.000000   \n",
      "75%      1.000000    1.000000    1.000000    1.000000    1.000000    1.000000   \n",
      "max      1.000000    1.000000    1.000000    1.000000    1.000000    1.000000   \n",
      "\n",
      "        satellite         aid     missile  immigration    synfuels  \\\n",
      "count  435.000000  435.000000  435.000000   435.000000  435.000000   \n",
      "mean     0.581609    0.590805    0.526437     0.512644    0.344828   \n",
      "std      0.493863    0.492252    0.499876     0.500416    0.475859   \n",
      "min      0.000000    0.000000    0.000000     0.000000    0.000000   \n",
      "25%      0.000000    0.000000    0.000000     0.000000    0.000000   \n",
      "50%      1.000000    1.000000    1.000000     1.000000    0.000000   \n",
      "75%      1.000000    1.000000    1.000000     1.000000    1.000000   \n",
      "max      1.000000    1.000000    1.000000     1.000000    1.000000   \n",
      "\n",
      "        education   superfund       crime  duty_free_exports     eaa_rsa  \n",
      "count  435.000000  435.000000  435.000000         435.000000  435.000000  \n",
      "mean     0.393103    0.537931    0.609195           0.400000    0.857471  \n",
      "std      0.489002    0.499133    0.488493           0.490462    0.349994  \n",
      "min      0.000000    0.000000    0.000000           0.000000    0.000000  \n",
      "25%      0.000000    0.000000    0.000000           0.000000    1.000000  \n",
      "50%      0.000000    1.000000    1.000000           0.000000    1.000000  \n",
      "75%      1.000000    1.000000    1.000000           1.000000    1.000000  \n",
      "max      1.000000    1.000000    1.000000           1.000000    1.000000  \n"
     ]
    }
   ],
   "source": [
    "print(dataset.describe())"
   ]
  },
  {
   "cell_type": "code",
   "execution_count": 5,
   "id": "c846bdcf",
   "metadata": {},
   "outputs": [
    {
     "data": {
      "image/png": "[encoded data removed]",
      "text/plain": [
       "<Figure size 432x288 with 1 Axes>"
      ]
     },
     "metadata": {
      "needs_background": "light"
     },
     "output_type": "display_data"
    }
   ],
   "source": [
    "# Visual EDA\n",
    "\n",
    "plt.figure()\n",
    "sns.countplot(x = 'education', hue = 'party', data = dataset, palette = 'RdBu')\n",
    "plt.xticks([0,1], ['No', 'Yes'])\n",
    "plt.show()"
   ]
  },
  {
   "cell_type": "code",
   "execution_count": 6,
   "id": "84b01717",
   "metadata": {},
   "outputs": [
    {
     "data": {
      "text/plain": [
       "KNeighborsClassifier(n_neighbors=6)"
      ]
     },
     "execution_count": 6,
     "metadata": {},
     "output_type": "execute_result"
    }
   ],
   "source": [
    "# Fit a k-Nearest neighbors classifier\n",
    "\n",
    "Y = dataset['party'].values\n",
    "\n",
    "X = dataset.drop('party', axis = 1).values\n",
    "\n",
    "knn = KNeighborsClassifier(n_neighbors = 6)\n",
    "\n",
    "knn.fit(X,Y)"
   ]
  },
  {
   "cell_type": "code",
   "execution_count": 7,
   "id": "d6ef9a17",
   "metadata": {},
   "outputs": [
    {
     "name": "stdout",
     "output_type": "stream",
     "text": [
      "Prediction: ['democrat']\n"
     ]
    },
    {
     "name": "stderr",
     "output_type": "stream",
     "text": [
      "C:\\Users\\woldu\\AppData\\Local\\Programs\\Python\\Python39\\lib\\site-packages\\sklearn\\base.py:443: UserWarning: X has feature names, but KNeighborsClassifier was fitted without feature names\n",
      "  warnings.warn(\n"
     ]
    }
   ],
   "source": [
    "# Predict k-Nearest neighbors with training data set\n",
    "\n",
    "y_pred = knn.predict(X)\n",
    "\n",
    "new_prediction = knn.predict(X_new)\n",
    "\n",
    "print(\"Prediction: {}\".format(new_prediction)) "
   ]
  },
  {
   "cell_type": "code",
   "execution_count": 8,
   "id": "e3c71bfd",
   "metadata": {},
   "outputs": [
    {
     "name": "stdout",
     "output_type": "stream",
     "text": [
      "0.9833333333333333\n"
     ]
    }
   ],
   "source": [
    "#Check model accuracy with test data set\n",
    "\n",
    "digits = datasets.load_digits()\n",
    "\n",
    "X = digits.data\n",
    "\n",
    "Y = digits.target\n",
    "\n",
    "X_train,X_test,y_train, y_test = train_test_split(X, Y, test_size = 0.2, random_state = 42, stratify = Y)\n",
    "\n",
    "knn = KNeighborsClassifier(n_neighbors=7)\n",
    "\n",
    "knn.fit(X_train, y_train)\n",
    "\n",
    "print(knn.score(X_test, y_test))"
   ]
  }
 ],
 "metadata": {
  "kernelspec": {
   "display_name": "Python 3 (ipykernel)",
   "language": "python",
   "name": "python3"
  },
  "language_info": {
   "codemirror_mode": {
    "name": "ipython",
    "version": 3
   },
   "file_extension": ".py",
   "mimetype": "text/x-python",
   "name": "python",
   "nbconvert_exporter": "python",
   "pygments_lexer": "ipython3",
   "version": "3.9.5"
  }
 },
 "nbformat": 4,
 "nbformat_minor": 5
}
